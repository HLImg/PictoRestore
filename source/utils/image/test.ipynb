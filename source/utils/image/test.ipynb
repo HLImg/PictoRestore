{
 "cells": [
  {
   "cell_type": "code",
   "execution_count": 1,
   "id": "initial_id",
   "metadata": {
    "ExecuteTime": {
     "end_time": "2023-09-14T11:14:50.316217284Z",
     "start_time": "2023-09-14T11:14:49.963807357Z"
    }
   },
   "outputs": [],
   "source": [
    "import glob\n",
    "import h5py\n",
    "import cv2 as cv\n",
    "import numpy as np\n",
    "import matplotlib.pyplot as plt\n",
    "\n",
    "from add_noise import AddNoise2HSI\n",
    "from add_noise_sst import AddNoise\n",
    "from skimage.metrics import structural_similarity as cal_ssim\n",
    "from skimage.metrics import peak_signal_noise_ratio as cal_psnr\n",
    "\n",
    "def load_hsi(path):\n",
    "    with h5py.File(path, 'r') as f:\n",
    "        keys = list(f.keys())\n",
    "        matfile_dict = {key: f[key][()] for key in keys}\n",
    "    return matfile_dict"
   ]
  },
  {
   "cell_type": "code",
   "execution_count": 2,
   "id": "3572acaf",
   "metadata": {},
   "outputs": [
    {
     "ename": "KeyboardInterrupt",
     "evalue": "",
     "output_type": "error",
     "traceback": [
      "\u001b[0;31m---------------------------------------------------------------------------\u001b[0m",
      "\u001b[0;31mKeyboardInterrupt\u001b[0m                         Traceback (most recent call last)",
      "Cell \u001b[0;32mIn[2], line 15\u001b[0m\n\u001b[1;32m     13\u001b[0m rad \u001b[38;5;241m=\u001b[39m (rad \u001b[38;5;241m-\u001b[39m rad\u001b[38;5;241m.\u001b[39mmin()) \u001b[38;5;241m/\u001b[39m (rad\u001b[38;5;241m.\u001b[39mmax() \u001b[38;5;241m-\u001b[39m rad\u001b[38;5;241m.\u001b[39mmin())\n\u001b[1;32m     14\u001b[0m rad_sst \u001b[38;5;241m=\u001b[39m add_noise_sst(rad)\n\u001b[0;32m---> 15\u001b[0m rad_mine \u001b[38;5;241m=\u001b[39m \u001b[43madd_noise_mine\u001b[49m\u001b[43m(\u001b[49m\u001b[43mrad\u001b[49m\u001b[43m,\u001b[49m\u001b[43m \u001b[49m\u001b[43mnoise\u001b[49m\u001b[43m)\u001b[49m\n\u001b[1;32m     16\u001b[0m psnr_sst \u001b[38;5;241m+\u001b[39m\u001b[38;5;241m=\u001b[39m cal_psnr(rad, rad_sst)\n\u001b[1;32m     17\u001b[0m psnr_mine \u001b[38;5;241m+\u001b[39m\u001b[38;5;241m=\u001b[39m cal_psnr(rad, rad_mine)\n",
      "File \u001b[0;32m~/Documents/HSImageDenoising/PictoRestore/source/utils/image/add_noise.py:69\u001b[0m, in \u001b[0;36mAddNoise2HSI.__call__\u001b[0;34m(self, img, noise_level)\u001b[0m\n\u001b[1;32m     67\u001b[0m \u001b[38;5;28;01mdef\u001b[39;00m \u001b[38;5;21m__call__\u001b[39m(\u001b[38;5;28mself\u001b[39m, img, noise_level\u001b[38;5;241m=\u001b[39m\u001b[38;5;241m10\u001b[39m):\n\u001b[1;32m     68\u001b[0m     \u001b[38;5;28;01mif\u001b[39;00m \u001b[38;5;28mself\u001b[39m\u001b[38;5;241m.\u001b[39mtype\u001b[38;5;241m.\u001b[39mlower() \u001b[38;5;129;01min\u001b[39;00m [\u001b[38;5;124m'\u001b[39m\u001b[38;5;124mgaussian\u001b[39m\u001b[38;5;124m'\u001b[39m, \u001b[38;5;124m'\u001b[39m\u001b[38;5;124mniid-gaussian\u001b[39m\u001b[38;5;124m'\u001b[39m]:\n\u001b[0;32m---> 69\u001b[0m         \u001b[38;5;28;01mreturn\u001b[39;00m \u001b[38;5;28;43mself\u001b[39;49m\u001b[38;5;241;43m.\u001b[39;49m\u001b[43madd_noise\u001b[49m\u001b[43m(\u001b[49m\u001b[43mimg\u001b[49m\u001b[43m,\u001b[49m\u001b[43m \u001b[49m\u001b[43mnoise_level\u001b[49m\u001b[43m)\u001b[49m\n\u001b[1;32m     70\u001b[0m     \u001b[38;5;28;01melif\u001b[39;00m \u001b[38;5;28mself\u001b[39m\u001b[38;5;241m.\u001b[39mtype\u001b[38;5;241m.\u001b[39mlower() \u001b[38;5;241m==\u001b[39m \u001b[38;5;124m'\u001b[39m\u001b[38;5;124mmixture\u001b[39m\u001b[38;5;124m'\u001b[39m:\n\u001b[1;32m     71\u001b[0m         \u001b[38;5;28;01mreturn\u001b[39;00m \u001b[38;5;28mself\u001b[39m\u001b[38;5;241m.\u001b[39madd_complex(\u001b[38;5;28mself\u001b[39m\u001b[38;5;241m.\u001b[39madd_nidd(img, noise_level))\n",
      "File \u001b[0;32m~/Documents/HSImageDenoising/PictoRestore/source/utils/image/noise.py:37\u001b[0m, in \u001b[0;36mAddMathNoise.__call__\u001b[0;34m(self, img, noise_level)\u001b[0m\n\u001b[1;32m     35\u001b[0m \u001b[38;5;28;01mdef\u001b[39;00m \u001b[38;5;21m__call__\u001b[39m(\u001b[38;5;28mself\u001b[39m, img, noise_level):\n\u001b[0;32m---> 37\u001b[0m     noised \u001b[38;5;241m=\u001b[39m img \u001b[38;5;241m+\u001b[39m \u001b[38;5;28;43mself\u001b[39;49m\u001b[38;5;241;43m.\u001b[39;49m\u001b[43madd_noise\u001b[49m\u001b[43m(\u001b[49m\u001b[43mimg\u001b[49m\u001b[43m,\u001b[49m\u001b[43m \u001b[49m\u001b[43mnoise_level\u001b[49m\u001b[43m)\u001b[49m\n\u001b[1;32m     39\u001b[0m     \u001b[38;5;28;01mif\u001b[39;00m \u001b[38;5;28mself\u001b[39m\u001b[38;5;241m.\u001b[39mclip:\n\u001b[1;32m     40\u001b[0m         noised \u001b[38;5;241m=\u001b[39m noised\u001b[38;5;241m.\u001b[39mclip(\u001b[38;5;241m0\u001b[39m, \u001b[38;5;241m1\u001b[39m)\n",
      "File \u001b[0;32m~/Documents/HSImageDenoising/PictoRestore/source/utils/image/noise.py:22\u001b[0m, in \u001b[0;36mAddMathNoise.gaussian_noise\u001b[0;34m(self, img, noise_level)\u001b[0m\n\u001b[1;32m     21\u001b[0m \u001b[38;5;28;01mdef\u001b[39;00m \u001b[38;5;21mgaussian_noise\u001b[39m(\u001b[38;5;28mself\u001b[39m, img, noise_level: \u001b[38;5;28mobject\u001b[39m):\n\u001b[0;32m---> 22\u001b[0m     noise \u001b[38;5;241m=\u001b[39m \u001b[43mnp\u001b[49m\u001b[38;5;241;43m.\u001b[39;49m\u001b[43mrandom\u001b[49m\u001b[38;5;241;43m.\u001b[39;49m\u001b[43mrandn\u001b[49m\u001b[43m(\u001b[49m\u001b[38;5;241;43m*\u001b[39;49m\u001b[43mimg\u001b[49m\u001b[38;5;241;43m.\u001b[39;49m\u001b[43mshape\u001b[49m\u001b[43m)\u001b[49m \u001b[38;5;241m*\u001b[39m (noise_level \u001b[38;5;241m/\u001b[39m \u001b[38;5;241m255.\u001b[39m)\n\u001b[1;32m     23\u001b[0m     \u001b[38;5;28;01mreturn\u001b[39;00m noise\n",
      "\u001b[0;31mKeyboardInterrupt\u001b[0m: "
     ]
    }
   ],
   "source": [
    "noise = 10\n",
    "add_noise_mine = AddNoise2HSI('gaussian')\n",
    "add_noise_sst = AddNoise(noise)\n",
    "\n",
    "psnr_sst, psnr_mine = 0.0, 0.0\n",
    "\n",
    "count = 0\n",
    "\n",
    "for path in glob.glob('/home/Public/Train/denoise/HSI/ICVL/*.mat'):\n",
    "    count = count + 1\n",
    "    hsi_data = load_hsi(path)\n",
    "    rad = hsi_data['rad']\n",
    "    rad = (rad - rad.min()) / (rad.max() - rad.min())\n",
    "    rad_sst = add_noise_sst(rad)\n",
    "    rad_mine = add_noise_mine(rad, noise)\n",
    "    psnr_sst += cal_psnr(rad, rad_sst)\n",
    "    psnr_mine += cal_psnr(rad, rad_mine)"
   ]
  },
  {
   "cell_type": "code",
   "execution_count": null,
   "id": "433b8a7a",
   "metadata": {},
   "outputs": [],
   "source": [
    "print(f\"sst-psnr : {psnr_sst / count},  mine-psnr : {psnr_mine / count}\")"
   ]
  },
  {
   "cell_type": "code",
   "execution_count": null,
   "id": "6f4fc4b7",
   "metadata": {},
   "outputs": [],
   "source": [
    "                                                                  "
   ]
  }
 ],
 "metadata": {
  "kernelspec": {
   "display_name": "Python 3 (ipykernel)",
   "language": "python",
   "name": "python3"
  },
  "language_info": {
   "codemirror_mode": {
    "name": "ipython",
    "version": 3
   },
   "file_extension": ".py",
   "mimetype": "text/x-python",
   "name": "python",
   "nbconvert_exporter": "python",
   "pygments_lexer": "ipython3",
   "version": "3.9.0"
  }
 },
 "nbformat": 4,
 "nbformat_minor": 5
}
